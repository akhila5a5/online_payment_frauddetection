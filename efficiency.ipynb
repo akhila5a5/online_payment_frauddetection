{
  "cells": [
    {
      "cell_type": "code",
      "execution_count": 39,
      "metadata": {
        "colab": {
          "base_uri": "https://localhost:8080/"
        },
        "id": "Y12JC9RsGjuC",
        "outputId": "f24350d5-848b-4247-ddf2-784d1e37aa6c"
      },
      "outputs": [
        {
          "data": {
            "text/plain": [
              "0.9997060959164621"
            ]
          },
          "execution_count": 39,
          "metadata": {},
          "output_type": "execute_result"
        }
      ],
      "source": [
        "\n",
        "model_dt.score(X_test, y_test)"
      ]
    },
    {
      "cell_type": "code",
      "execution_count": 40,
      "metadata": {
        "id": "v_8B9m_GG_lN"
      },
      "outputs": [],
      "source": [
        "from sklearn.metrics import precision_score, recall_score, f1_score\n"
      ]
    },
    {
      "cell_type": "code",
      "execution_count": 41,
      "metadata": {
        "colab": {
          "base_uri": "https://localhost:8080/"
        },
        "id": "IVehRdG-575B",
        "outputId": "e441a506-5a3b-4459-c8f7-2145727c828e"
      },
      "outputs": [
        {
          "name": "stdout",
          "output_type": "stream",
          "text": [
            "Precision: 0.9997020166056372\n",
            "Recall: 0.999704524236871\n",
            "F1-score: 0.9997031738950372\n"
          ]
        }
      ],
      "source": [
        "from mmap import MAP_DENYWRITE\n",
        "\n",
        "# Instantiate the logistic regression model\n",
        "md = DecisionTreeClassifier()\n",
        "\n",
        "# Train the model\n",
        "md.fit(X_train, y_train)\n",
        "\n",
        "# Make predictions on the test set\n",
        "y_pred = md.predict(X_test)\n",
        "\n",
        "precision = precision_score(y_test, y_pred, average='weighted')\n",
        "recall = recall_score(y_test, y_pred, average='weighted')\n",
        "f1 = f1_score(y_test, y_pred, average='weighted')\n",
        "\n",
        "print(\"Precision:\", precision)\n",
        "print(\"Recall:\", recall)\n",
        "print(\"F1-score:\", f1)"
      ]
    }
  ],
  "metadata": {
    "colab": {
      "provenance": []
    },
    "kernelspec": {
      "display_name": "Python 3",
      "name": "python3"
    },
    "language_info": {
      "name": "python"
    }
  },
  "nbformat": 4,
  "nbformat_minor": 0
}
