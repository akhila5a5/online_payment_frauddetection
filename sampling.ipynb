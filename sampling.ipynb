{
  "cells": [
    {
      "cell_type": "code",
      "execution_count": 33,
      "metadata": {
        "id": "lVUwmb-8FWsf"
      },
      "outputs": [],
      "source": [
        "from imblearn.under_sampling import RandomUnderSampler"
      ]
    },
    {
      "cell_type": "code",
      "execution_count": 34,
      "metadata": {
        "id": "_x9TxrhYFgQn"
      },
      "outputs": [],
      "source": [
        "\n",
        "\n",
        "# Assuming X and y are your features and target variable respectively\n",
        "# Perform majority undersampling to address the imbalanced classes in the dataset\n",
        "undersample = RandomUnderSampler(sampling_strategy='majority')\n",
        "\n",
        "# Obtaining the undersampled dataframes - testing and training\n",
        "X_resampled, y_resampled = undersample.fit_resample(X, y)\n"
      ]
    },
    {
      "cell_type": "code",
      "execution_count": 35,
      "metadata": {
        "colab": {
          "base_uri": "https://localhost:8080/"
        },
        "id": "C5rfxsH3FmVv",
        "outputId": "c57de597-7fae-4b72-b61e-ab6a49fad41e"
      },
      "outputs": [
        {
          "name": "stdout",
          "output_type": "stream",
          "text": [
            "(16426,)\n"
          ]
        }
      ],
      "source": [
        "print(y_resampled.shape)\n"
      ]
    },
    {
      "cell_type": "code",
      "execution_count": 36,
      "metadata": {
        "colab": {
          "base_uri": "https://localhost:8080/"
        },
        "id": "aejrqC8hFpL-",
        "outputId": "d0acadbf-3c92-40dc-c487-7365e8bbbd91"
      },
      "outputs": [
        {
          "data": {
            "text/plain": [
              "array([0])"
            ]
          },
          "execution_count": 36,
          "metadata": {},
          "output_type": "execute_result"
        }
      ],
      "source": [
        "data = np.array([[1,121558,0,0,1248672,1370230]])\n",
        "model_dt.predict(data)"
      ]
    },
    {
      "cell_type": "code",
      "execution_count": 37,
      "metadata": {
        "colab": {
          "base_uri": "https://localhost:8080/"
        },
        "id": "ujYI6J5YF3CF",
        "outputId": "d8ce5fce-0832-4a69-a197-a9910f391105"
      },
      "outputs": [
        {
          "data": {
            "text/plain": [
              "array([1])"
            ]
          },
          "execution_count": 37,
          "metadata": {},
          "output_type": "execute_result"
        }
      ],
      "source": [
        "data1 = np.array([[4,88424,88424,0,0,0]])\n",
        "model_dt.predict(data1)"
      ]
    },
    {
      "cell_type": "code",
      "execution_count": 43,
      "metadata": {
        "colab": {
          "base_uri": "https://localhost:8080/"
        },
        "id": "myvjzppDateE",
        "outputId": "d175302b-6a12-4c20-c6bc-fd451459365e"
      },
      "outputs": [
        {
          "name": "stdout",
          "output_type": "stream",
          "text": [
            "Class distribution after undersampling:\n",
            "0    8213\n",
            "1    8213\n",
            "Name: isFraud, dtype: int64\n",
            "The dataset is balanced.\n"
          ]
        }
      ],
      "source": [
        "import pandas as pd\n",
        "\n",
        "# Assuming y_resampled is your target variable after undersampling\n",
        "# Convert y_resampled to a DataFrame for easier analysis\n",
        "y_resampled_df = pd.DataFrame(y_resampled, columns=['isFraud'])\n",
        "\n",
        "# Check the distribution of classes in the undersampled dataset\n",
        "class_distribution = y_resampled_df['isFraud'].value_counts()\n",
        "print(\"Class distribution after undersampling:\")\n",
        "print(class_distribution)\n",
        "\n",
        "# Calculate the ratio of minority class to majority class\n",
        "minority_class_count = class_distribution[1]  # Assuming 1 represents the minority class\n",
        "majority_class_count = class_distribution[0]  # Assuming 0 represents the majority class\n",
        "balance_ratio = minority_class_count / majority_class_count\n",
        "\n",
        "# Check if the dataset is balanced based on some threshold (e.g., balance_ratio close to 1)\n",
        "if balance_ratio >= 0.5 and balance_ratio <= 2:\n",
        "    print(\"The dataset is balanced.\")\n",
        "else:\n",
        "    print(\"The dataset is not balanced.\")\n",
        "\n"
      ]
    }
  ],
  "metadata": {
    "colab": {
      "provenance": []
    },
    "kernelspec": {
      "display_name": "Python 3",
      "name": "python3"
    },
    "language_info": {
      "name": "python"
    }
  },
  "nbformat": 4,
  "nbformat_minor": 0
}
